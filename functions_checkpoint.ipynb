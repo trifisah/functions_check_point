{
 "cells": [
  {
   "cell_type": "code",
   "execution_count": 4,
   "metadata": {},
   "outputs": [
    {
     "name": "stdout",
     "output_type": "stream",
     "text": [
      "35\n"
     ]
    }
   ],
   "source": [
    "#QUESTION1\n",
    "\n",
    "\n",
    "def maximum(a,b,c):\n",
    "    return(max(a,b,c))\n",
    "print(maximum(35,19,20))"
   ]
  },
  {
   "cell_type": "code",
   "execution_count": 8,
   "metadata": {},
   "outputs": [
    {
     "name": "stdout",
     "output_type": "stream",
     "text": [
      "(50, 30)\n"
     ]
    }
   ],
   "source": [
    "#QUESTION 2\n",
    "\n",
    "\n",
    "def calculation(a,b):\n",
    "    return (a+b , a-b )\n",
    "print(calculation(40,10))"
   ]
  },
  {
   "cell_type": "code",
   "execution_count": 50,
   "metadata": {},
   "outputs": [
    {
     "name": "stdout",
     "output_type": "stream",
     "text": [
      "length of your list =6\n",
      "1\n",
      "2\n",
      "3\n",
      "4\n",
      "5\n",
      "6\n",
      "[1, 2, 3, 4, 5, 6]\n",
      "sum list is : 21\n",
      "mult list is : 720\n",
      "la liste a sommer est listsum = [1, 3, 5]\n",
      "la liste a multiplier est listprod = [2, 4, 6]\n",
      "la somme des element de position pair est = 9\n",
      "la multiplication des element de position impair est = 48\n"
     ]
    }
   ],
   "source": [
    "#QUESTION 3\n",
    "\n",
    "import numpy as np\n",
    "n=int(input('length of your list ='))\n",
    "my_list=[]\n",
    "for i in range(n):\n",
    "    my_list.append(int(input()))\n",
    "print(my_list)\n",
    "total=sum(my_list)\n",
    "print('sum list is :',total)\n",
    "prod=np.prod(my_list)\n",
    "print('mult list is :',prod)\n",
    "listsum=[]\n",
    "listprod=[]\n",
    "for x in range(0,len(my_list)):\n",
    "        if (x%2==0):\n",
    "            listsum.append(my_list[x])\n",
    "        else:\n",
    "            listprod.append(my_list[x])\n",
    "print('la liste a sommer est listsum =',listsum)\n",
    "print('la liste a multiplier est listprod =',listprod)\n",
    "print('la somme des element de position pair est =',sum(listsum))\n",
    "print('la multiplication des element de position impair est =',np.prod(listprod))"
   ]
  },
  {
   "cell_type": "code",
   "execution_count": 42,
   "metadata": {},
   "outputs": [
    {
     "name": "stdout",
     "output_type": "stream",
     "text": [
      "green-red-yellow-black-white\n",
      "black-green-red-white-yellow\n"
     ]
    }
   ],
   "source": [
    "# Question 4 :\n",
    "\n",
    "\n",
    "items=[n for n in input().split('-')]\n",
    "items.sort()\n",
    "print('-'.join(items))\n"
   ]
  },
  {
   "cell_type": "code",
   "execution_count": 43,
   "metadata": {},
   "outputs": [
    {
     "name": "stdout",
     "output_type": "stream",
     "text": [
      "Provide D: 100,150,180\n",
      "[18, 22, 24]\n"
     ]
    }
   ],
   "source": [
    "#QUESTION 5 :\n",
    "\n",
    "\n",
    "import math\n",
    "\n",
    "numbers = input(\"Provide D: \")\n",
    "numbers = numbers.split(',')\n",
    "\n",
    "result_list = []\n",
    "for D in numbers:\n",
    "    Q = round(math.sqrt(2 * 50 * int(D) / 30))\n",
    "    result_list.append(Q)\n",
    "\n",
    "print(result_list)"
   ]
  },
  {
   "cell_type": "code",
   "execution_count": null,
   "metadata": {},
   "outputs": [],
   "source": []
  }
 ],
 "metadata": {
  "kernelspec": {
   "display_name": "Python 3",
   "language": "python",
   "name": "python3"
  },
  "language_info": {
   "codemirror_mode": {
    "name": "ipython",
    "version": 3
   },
   "file_extension": ".py",
   "mimetype": "text/x-python",
   "name": "python",
   "nbconvert_exporter": "python",
   "pygments_lexer": "ipython3",
   "version": "3.8.5"
  }
 },
 "nbformat": 4,
 "nbformat_minor": 4
}
